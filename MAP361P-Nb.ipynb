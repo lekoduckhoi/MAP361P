{
 "cells": [
  {
   "cell_type": "markdown",
   "metadata": {},
   "source": [
    "# Calcul bayésien exact et approché"
   ]
  },
  {
   "cell_type": "code",
   "execution_count": 3,
   "metadata": {},
   "outputs": [],
   "source": [
    "import numpy as np\n",
    "import matplotlib.pyplot as plt\n",
    "import math"
   ]
  },
  {
   "cell_type": "markdown",
   "metadata": {},
   "source": [
    "   ## 1.Modèle Poisson-Gamma"
   ]
  },
  {
   "cell_type": "markdown",
   "metadata": {
    "tags": []
   },
   "source": [
    "### T1.\n",
    "\n",
    "La loi a posteriori dans ce cas est\n",
    "\n",
    "$$\\pi(\\theta|\\textbf{y}) = \\frac{1}{Z(\\textbf{y})} \\pi(\\theta) \\mathcal{L}(\\theta;\\textbf{y})$$\n",
    "\n",
    "et donc \n",
    "\n",
    "$$\\pi(\\theta|\\textbf{y}) \\propto \\pi(\\theta) \\mathcal{L}(\\theta;\\textbf{y})$$\n",
    "ou: \n",
    "$\n",
    "\\begin{cases}\n",
    "    \\pi(\\theta) = \\frac{b^a}{\\Gamma(a)} \\theta^{a-1} e^{-b\\theta}\\\\\n",
    "    \\mathcal{L}(\\theta;\\textbf{y}) = \\prod_{i=1}^{n}p(y_i,\\theta) = \\prod_{i=1}^{n}(\\frac{\\theta^{y_i}}{y_i!} e^{-\\theta}) = \\frac{1}{\\prod_{i=1}^{n}y_i!} \\theta^{\\sum_{i=1}^{n}y_i} e^{-n\\theta}\n",
    "\\end{cases}\\\\\n",
    "\\Rightarrow \n",
    "\\begin{cases}\n",
    "    \\pi(\\theta) \\propto \\theta^{a-1} e^{-b\\theta}\\\\\n",
    "    \\mathcal{L}(\\theta;\\textbf{y}) \\propto \\theta^{\\sum_{i=1}^{n}y_i} e^{-n\\theta}\n",
    "\\end{cases}\n",
    "$\n",
    "\n",
    "Alors on a \n",
    "$$\\pi(\\theta|\\textbf{y}) \\propto \\theta^{a-1} e^{-b\\theta} \\theta^{\\sum_{i=1}^{n}y_i} e^{-n\\theta}\\\\$$\n",
    "$\n",
    "\\Rightarrow \n",
    "$\n",
    "$$\\pi(\\theta)$$\n"
   ]
  },
  {
   "cell_type": "markdown",
   "metadata": {},
   "source": [
    "## 2. Estimation de la constante de normalisation"
   ]
  },
  {
   "cell_type": "markdown",
   "metadata": {},
   "source": [
    "## 3. Approximate Bayesian Computation (ABC)"
   ]
  },
  {
   "cell_type": "markdown",
   "metadata": {},
   "source": [
    "### T8.\n",
    "\n",
    "On a $d(z,y)=\\|z-y\\|^2=\\sum_{i=1}^n(z_i-y_i)^2$, d'où $\\{z\\in\\mathbb{N}^n\\,|\\,d(z,y)=0\\}=\\{y\\}$. On a donc $\\pi_e(\\theta)=\\pi(\\theta|y)$. Ce cadre est inutilisable en pratique car il est peu probable que $y$ soit dans l'ensemble des valeurs possibles de $z$."
   ]
  },
  {
   "cell_type": "markdown",
   "metadata": {},
   "source": [
    "### T9.\n",
    "\n",
    "On a $d(z,y)=|S(z)-S(y)|=|\\sum_{i=1}^n z_i-\\sum_{i=1}^n y_i|=|\\sum_{i=1}^n z_i-y_i|=|S(z-y)|$. Donc $\\{z\\in\\mathbb{N}^n\\,|\\,d(z,y)=0\\}=\\{y\\}$. Il vient que $\\pi_e(\\theta)=\\pi(\\theta|y)$."
   ]
  },
  {
   "cell_type": "markdown",
   "metadata": {},
   "source": [
    "## 4. Modèle de mélange"
   ]
  },
  {
   "cell_type": "markdown",
   "metadata": {},
   "source": []
  }
 ],
 "metadata": {
  "kernelspec": {
   "display_name": "Python 3 (ipykernel)",
   "language": "python",
   "name": "python3"
  },
  "language_info": {
   "codemirror_mode": {
    "name": "ipython",
    "version": 3
   },
   "file_extension": ".py",
   "mimetype": "text/x-python",
   "name": "python",
   "nbconvert_exporter": "python",
   "pygments_lexer": "ipython3",
   "version": "3.10.6"
  }
 },
 "nbformat": 4,
 "nbformat_minor": 4
}
