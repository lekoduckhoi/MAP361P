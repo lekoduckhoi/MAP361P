{
 "cells": [
  {
   "cell_type": "markdown",
   "metadata": {},
   "source": [
    "# Calcul bayésien exact et approché"
   ]
  },
  {
   "cell_type": "code",
   "execution_count": 4,
   "metadata": {},
   "outputs": [],
   "source": [
    "import numpy as np\n",
    "import matplotlib.pyplot as plt\n",
    "import scipy.stats as sps\n",
    "import math"
   ]
  },
  {
   "cell_type": "markdown",
   "metadata": {},
   "source": [
    "   ## 1.Modèle Poisson-Gamma"
   ]
  },
  {
   "cell_type": "markdown",
   "metadata": {
    "tags": []
   },
   "source": [
    "### T1.\n",
    "\n",
    "La loi a posteriori dans ce cas est\n",
    "\n",
    "$$\\pi(\\theta|\\textbf{y}) = \\frac{1}{Z(\\textbf{y})} \\pi(\\theta) \\mathcal{L}(\\theta;\\textbf{y})$$\n",
    "\n",
    "et donc \n",
    "\n",
    "$$\\pi(\\theta|\\textbf{y}) \\propto \\pi(\\theta) \\mathcal{L}(\\theta;\\textbf{y})$$\n",
    "ou: \n",
    "$\n",
    "\\begin{cases}\n",
    "    \\pi(\\theta) = \\frac{b^a}{\\Gamma(a)} \\theta^{a-1} e^{-b\\theta}\\\\\n",
    "    \\mathcal{L}(\\theta;\\textbf{y}) = \\prod_{i=1}^{n}p(y_i,\\theta) = \\prod_{i=1}^{n}(\\frac{\\theta^{y_i}}{y_i!} e^{-\\theta}) = \\frac{1}{\\prod_{i=1}^{n}y_i!} \\theta^{\\sum_{i=1}^{n}y_i} e^{-n\\theta}\n",
    "\\end{cases}\\\\\n",
    "\\Rightarrow \n",
    "\\begin{cases}\n",
    "    \\pi(\\theta) \\propto \\theta^{a-1} e^{-b\\theta}\\\\\n",
    "    \\mathcal{L}(\\theta;\\textbf{y}) \\propto \\theta^{\\sum_{i=1}^{n}y_i} e^{-n\\theta}\n",
    "\\end{cases}\n",
    "$\n",
    "\n",
    "Alors on a \n",
    "$$\\pi(\\theta|\\textbf{y}) \\propto \\theta^{a-1} e^{-b\\theta} \\theta^{\\sum_{i=1}^{n}y_i} e^{-n\\theta}\\\\\n",
    "\n",
    "\\Rightarrow \\pi(\\theta|\\textbf{y}) \\propto \\theta^{a+\\sum_{i=1}^{n}y_i-1} e^{-\\theta(b+n)} \\\\\n",
    "\\Rightarrow \\pi(\\theta|\\textbf{y}) \\propto Gamma(a+\\sum_{i=1}^{n}y_i,  b+n)\n",
    "$$\n",
    "Vu que ils sont tout les deux des densités donc on peut conclure que $\\pi(\\theta|\\textbf{y})$ est de loi $Gamma(a+\\sum_{i=1}^{n}y_i,  b+n)$\n"
   ]
  },
  {
   "cell_type": "markdown",
   "metadata": {},
   "source": [
    "### T2.\n",
    "\n",
    "Soit S une fonction de $\\mathbb{R}^n \\to \\mathbb{R}$ telle que $S(x_1,x_2,...,x_n) = \\sum_{i=1}^{n}x_i$ \n",
    "\n",
    "Alors la loi a posteriori est de loi $Gamma(a+S(\\textbf{y}), b+n)$\n",
    "\n",
    "On a $y_1, y_2,..., y_n$ sont indépendants\n",
    "$\\Rightarrow \n",
    "\\begin{cases}\n",
    "    \\mathbb{E}[S(\\textbf{y})] = \\sum_{i=1}^{n}\\mathbb{E}[y_i] = n\\theta_0 \\\\\n",
    "    Var(S(\\textbf{y})) = \\sum_{i=1}^{n}Var(y_i) = n\\theta_0 \\\\\n",
    "\\end{cases}\n",
    "$\n",
    "\n",
    "\n"
   ]
  },
  {
   "cell_type": "markdown",
   "metadata": {},
   "source": [
    "### S1.\n"
   ]
  },
  {
   "cell_type": "code",
   "execution_count": null,
   "metadata": {},
   "outputs": [],
   "source": [
    "# Définir les paramètres pour les distributions Gamma\n",
    "parametres = [(2, 2), (0.5, 10), (5, 1)]\n",
    "\n",
    "# Créer une figure avec 3 sous-graphiques\n",
    "fig, axs = plt.subplots(3, 1, figsize=(8, 12))\n",
    "\n",
    "# Définir la plage de valeurs theta pour les graphiques\n",
    "theta = np.linspace(0, 20, 1000)\n",
    "\n",
    "for i, (a, b) in enumerate(parametres):\n",
    "    # Calculer la densité de probabilité Gamma\n",
    "    y = sps.gamma.pdf(theta, a, scale=b)\n",
    "    \n",
    "    # Tracer la densité de probabilité Gamma\n",
    "    axs[i].plot(theta, y, label=f'Gamma(a={a}, b={b})')\n",
    "    axs[i].set_title(f'Distribution Gamma avec a={a}, b={b}')\n",
    "    axs[i].set_xlabel(r'$\\theta$')\n",
    "    axs[i].set_ylabel(r'Densité a priori $\\pi(\\theta)$')\n",
    "    axs[i].legend()\n",
    "\n",
    "# Ajuster la mise en page\n",
    "plt.tight_layout()\n",
    "plt.show()\n"
   ]
  },
  {
   "cell_type": "markdown",
   "metadata": {},
   "source": [
    "### S2.\n"
   ]
  },
  {
   "cell_type": "code",
   "execution_count": null,
   "metadata": {},
   "outputs": [],
   "source": [
    "theta0 = 4.5\n",
    "n_values = [10, 100, 1000, 10000]\n",
    "\n",
    "\n",
    "# Fonction pour générer des échantillons et tracer les densités\n",
    "def tracer_densites_posteriori_poisson(theta0, n_values, parametres):\n",
    "    # Créer une figure pour les sous-graphiques\n",
    "    fig, axs = plt.subplots(len(n_values), 1, figsize=(10, 20))\n",
    "\n",
    "    for i, n in enumerate(n_values):\n",
    "        # Générer des échantillons de taille n suivant une distribution Poisson\n",
    "        y = np.random.poisson(theta0, n)\n",
    "        \n",
    "        # Calculer les densités a posteriori pour chaque (a, b)\n",
    "        theta = np.linspace(0, 10, 1000)\n",
    "        for (a, b) in parametres:\n",
    "            new_a = a + np.sum(y)\n",
    "            new_b = b + n\n",
    "            densite = sps.gamma.pdf(theta, new_a, scale=1/new_b)\n",
    "            axs[i].plot(theta, densite, label=f'Posteriori (a={a}, b={b})')\n",
    "        \n",
    "        # Configurer le sous-graphe\n",
    "        axs[i].set_title(f'Taille de l\\'échantillon n={n}')\n",
    "        axs[i].set_xlabel(r'$\\theta$')\n",
    "        axs[i].set_ylabel(r'Densité de loi a posteriori $\\pi(\\theta|y)$')\n",
    "        axs[i].legend()\n",
    "\n",
    "    # Ajuster la mise en page\n",
    "    plt.tight_layout()\n",
    "    plt.show()\n",
    "\n",
    "# Appeler la fonction pour tracer les densités\n",
    "tracer_densites_posteriori_poisson(theta0, n_values, parametres)"
   ]
  },
  {
   "cell_type": "markdown",
   "metadata": {},
   "source": [
    "Ces graphiques illustrent comment les densités a posteriori de la distribution Gamma évoluent en fonction de la taille de l'échantillon n. Nous observons qu'avec une augmentation de n, les densités a posteriori deviennent plus étroites et se resserrent autour d'un pic centré à $\\theta = 4.5$.\n",
    "\n",
    "Initialement, pour de petites tailles d'échantillon, les densités a posteriori présentent une plus grande variabilité et sont influencées de manière significative par les paramètres a priori. Cependant, à mesure que la taille de l'échantillon augmente, l'influence des paramètres a priori diminue et les données deviennent plus prédominantes. Cela se traduit par des densités a posteriori plus précises et plus concentrées autour de la vraie valeur de $\\theta$.\n",
    "\n",
    "En conséquence, les densités a posteriori convergent vers une distribution plus étroite et plus centrée à mesure que la taille de l'échantillon augmente, ce qui témoigne d'une amélioration de la précision de l'estimation de $\\theta$ à partir des données observées.\n"
   ]
  },
  {
   "cell_type": "markdown",
   "metadata": {},
   "source": [
    "### T3.\n",
    "\n",
    "On a $\\int_{\\Theta} \\theta \\cdot \\pi(\\theta|\\textbf{y}) d\\theta = \\mathbb{E}[\\theta|\\textbf{y}] $\n",
    "\n",
    "De plus, on sait que \n",
    "\n",
    "$\n",
    "\\begin{cases}\n",
    "    \\pi(\\theta|\\textbf{y}) \\text{ est de loi } Gamma(a+S(\\textbf{y}), b+n)\\\\\n",
    "    \\mathbb{E}[Gamma(\\alpha,\\beta)] = \\alpha/\\beta\n",
    "\\end{cases}\\\\\n",
    "$\n",
    "\n",
    "$\n",
    "\\Rightarrow\n",
    "\\int_{\\Theta} \\theta \\cdot \\pi(\\theta|\\textbf{y}) d\\theta = \\frac{a+S(\\textbf{y})}{b+n}\\\\\n",
    "\\Rightarrow\n",
    "\\hat{\\theta}_n = \\frac{a+S(\\textbf{y})}{b+n}\\\\\n",
    "\\Rightarrow\n",
    "\\mathbb{E}[\\hat{\\theta}] = \\mathbb{E}[\\frac{a+S(\\textbf{y})}{b+n}] = \\frac{a+\\mathbb{E}[S(\\textbf{y})]}{b+n} = \\frac{a+n\\theta_0}{b+n}\\\\\n",
    "\\Rightarrow\n",
    "\\lim_{n \\to \\infty} \\mathbb{E}[|\\hat{\\theta}_n-\\theta_0|] = \\lim_{n \\to \\infty} |\\frac{a+n\\theta_0}{b+n} - \\theta_0| = 0\\\\\n",
    "$\n",
    "\n",
    "L'estimeateur $\\hat{\\theta}_n$ converge en moyenne (et donc en probabilité) vers $\\theta_0$ quand n $\\to \\infty$\n",
    "\n",
    "Plus les valeurs a et b sont grandes, plus L'estimeateur $\\hat{\\theta}_n$ converge lentement vers $\\theta_0$\n",
    "\n",
    "\n"
   ]
  },
  {
   "cell_type": "markdown",
   "metadata": {},
   "source": [
    "### S3.\n"
   ]
  },
  {
   "cell_type": "code",
   "execution_count": 50,
   "metadata": {},
   "outputs": [
    {
     "name": "stdout",
     "output_type": "stream",
     "text": [
      "For an echantillons de taille 10 avec a = 2 and b = 2\n",
      "La difference entre l'estimateur et (θ)₀ est = 0.6666666666666665\n",
      "For an echantillons de taille 10 avec a = 0.5 and b = 10\n",
      "La difference entre l'estimateur et (θ)₀ est = 2.275\n",
      "For an echantillons de taille 10 avec a = 5 and b = 1\n",
      "La difference entre l'estimateur et (θ)₀ est = 0.04545454545454586\n",
      "For an echantillons de taille 100 avec a = 2 and b = 2\n",
      "La difference entre l'estimateur et (θ)₀ est = 0.17647058823529438\n",
      "For an echantillons de taille 100 avec a = 0.5 and b = 10\n",
      "La difference entre l'estimateur et (θ)₀ est = 0.1772727272727277\n",
      "For an echantillons de taille 100 avec a = 5 and b = 1\n",
      "La difference entre l'estimateur et (θ)₀ est = 0.25247524752475226\n",
      "For an echantillons de taille 1000 avec a = 2 and b = 2\n",
      "La difference entre l'estimateur et (θ)₀ est = 0.06986027944111761\n",
      "For an echantillons de taille 1000 avec a = 0.5 and b = 10\n",
      "La difference entre l'estimateur et (θ)₀ est = 0.032178217821781985\n",
      "For an echantillons de taille 1000 avec a = 5 and b = 1\n",
      "La difference entre l'estimateur et (θ)₀ est = 0.07742257742257763\n",
      "For an echantillons de taille 10000 avec a = 2 and b = 2\n",
      "La difference entre l'estimateur et (θ)₀ est = 0.007398520295940791\n",
      "For an echantillons de taille 10000 avec a = 0.5 and b = 10\n",
      "La difference entre l'estimateur et (θ)₀ est = 0.003646353646353795\n",
      "For an echantillons de taille 10000 avec a = 5 and b = 1\n",
      "La difference entre l'estimateur et (θ)₀ est = 0.008149185081491872\n"
     ]
    }
   ],
   "source": [
    "#lam graph cho moi a,b khi n tang dan\n",
    "for nval in n_values:\n",
    "    # Générer des échantillons de taille n suivant une distribution Poisson\n",
    "    y = np.random.poisson(theta0, nval)\n",
    "        \n",
    "    for (a, b) in parametres:\n",
    "        \n",
    "        #calculate l'estimateur theta hat\n",
    "        est = (a + np.sum(y))/(b+nval)\n",
    "        \n",
    "        #calculate la difference entre l'estimateur et theta0\n",
    "        diff = abs(est - theta0)\n",
    "        \n",
    "        print(f\"For an echantillons de taille {nval} avec a = {a} and b = {b}\")\n",
    "        print(f\"La difference entre l'estimateur et (\\u03b8)\\u2080 est = {diff}\")\n",
    "        \n",
    "        "
   ]
  },
  {
   "cell_type": "markdown",
   "metadata": {},
   "source": [
    "## 2. Estimation de la constante de normalisation"
   ]
  },
  {
   "cell_type": "markdown",
   "metadata": {},
   "source": [
    "## 3. Approximate Bayesian Computation (ABC)"
   ]
  },
  {
   "cell_type": "markdown",
   "metadata": {},
   "source": [
    "### T8.\n",
    "\n",
    "On a $d(z,y)=\\|z-y\\|^2=\\sum_{i=1}^n(z_i-y_i)^2$, d'où $\\{z\\in\\mathbb{N}^n\\,|\\,d(z,y)=0\\}=\\{y\\}$. On a donc $\\pi_e(\\theta)=\\pi(\\theta|y)$. Ce cadre est inutilisable en pratique car il est peu probable que $y$ soit dans l'ensemble des valeurs possibles de $z$."
   ]
  },
  {
   "cell_type": "markdown",
   "metadata": {},
   "source": [
    "### T9.\n",
    "\n",
    "On a $d(z,y)=|S(z)-S(y)|=|\\sum_{i=1}^n z_i-\\sum_{i=1}^n y_i|=|\\sum_{i=1}^n z_i-y_i|=|S(z-y)|$. Donc $\\{z\\in\\mathbb{N}^n\\,|\\,d(z,y)=0\\}=\\{y\\}$. Il vient que $\\pi_e(\\theta)=\\pi(\\theta|y)$."
   ]
  },
  {
   "cell_type": "markdown",
   "metadata": {},
   "source": [
    "## 4. Modèle de mélange"
   ]
  },
  {
   "cell_type": "markdown",
   "metadata": {},
   "source": []
  }
 ],
 "metadata": {
  "kernelspec": {
   "display_name": "Python 3 (ipykernel)",
   "language": "python",
   "name": "python3"
  },
  "language_info": {
   "codemirror_mode": {
    "name": "ipython",
    "version": 3
   },
   "file_extension": ".py",
   "mimetype": "text/x-python",
   "name": "python",
   "nbconvert_exporter": "python",
   "pygments_lexer": "ipython3",
   "version": "3.11.9"
  }
 },
 "nbformat": 4,
 "nbformat_minor": 4
}
